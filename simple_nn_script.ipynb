{
  "nbformat": 4,
  "nbformat_minor": 0,
  "metadata": {
    "colab": {
      "provenance": []
    },
    "kernelspec": {
      "name": "python3",
      "display_name": "Python 3"
    },
    "language_info": {
      "name": "python"
    }
  },
  "cells": [
    {
      "cell_type": "code",
      "execution_count": 2,
      "metadata": {
        "colab": {
          "base_uri": "https://localhost:8080/"
        },
        "id": "ONarc-NvE9vU",
        "outputId": "f667452f-00e8-4f9c-f544-bb08c39e815c"
      },
      "outputs": [
        {
          "output_type": "stream",
          "name": "stdout",
          "text": [
            "Epoch [10/200], Loss: 2319.7036\n",
            "Epoch [20/200], Loss: 734.3781\n",
            "Epoch [30/200], Loss: 265.3704\n",
            "Epoch [40/200], Loss: 97.3775\n",
            "Epoch [50/200], Loss: 35.0525\n",
            "Epoch [60/200], Loss: 10.2767\n",
            "Epoch [70/200], Loss: 1.4622\n",
            "Epoch [80/200], Loss: 0.0502\n",
            "Epoch [90/200], Loss: 0.3897\n",
            "Epoch [100/200], Loss: 0.2517\n",
            "Epoch [110/200], Loss: 0.0061\n",
            "Epoch [120/200], Loss: 0.0033\n",
            "Epoch [130/200], Loss: 0.0012\n",
            "Epoch [140/200], Loss: 0.0002\n",
            "Epoch [150/200], Loss: 0.0000\n",
            "Epoch [160/200], Loss: 0.0001\n",
            "Epoch [170/200], Loss: 0.0000\n",
            "Epoch [180/200], Loss: 0.0000\n",
            "Epoch [190/200], Loss: 0.0000\n",
            "Epoch [200/200], Loss: 0.0000\n",
            "Test Loss: 0.0179\n",
            "Прогнозы на тестовых данных:\n",
            "Вход: 83, Прогноз: 167.00108337402344, Ожидаемое: 167\n",
            "Вход: 53, Прогноз: 107.00033569335938, Ожидаемое: 107\n",
            "Вход: 70, Прогноз: 141.00076293945312, Ожидаемое: 141\n",
            "Вход: 45, Прогноз: 91.0001449584961, Ожидаемое: 91\n",
            "Вход: 44, Прогноз: 89.00011444091797, Ожидаемое: 89\n",
            "Вход: 39, Прогноз: 79.0, Ожидаемое: 79\n",
            "Вход: 22, Прогноз: 44.99958801269531, Ожидаемое: 45\n",
            "Вход: 80, Прогноз: 161.00099182128906, Ожидаемое: 161\n",
            "Вход: 10, Прогноз: 20.999296188354492, Ожидаемое: 21\n",
            "Вход: 0, Прогноз: 1.5987874269485474, Ожидаемое: 1\n",
            "Вход: 18, Прогноз: 36.99949264526367, Ожидаемое: 37\n",
            "Вход: 30, Прогноз: 60.99979019165039, Ожидаемое: 61\n",
            "Вход: 73, Прогноз: 147.00083923339844, Ожидаемое: 147\n",
            "Вход: 33, Прогноз: 66.9998550415039, Ожидаемое: 67\n",
            "Вход: 90, Прогноз: 181.00125122070312, Ожидаемое: 181\n",
            "Вход: 4, Прогноз: 9.013827323913574, Ожидаемое: 9\n",
            "Вход: 76, Прогноз: 153.0009002685547, Ожидаемое: 153\n",
            "Вход: 77, Прогноз: 155.0009307861328, Ожидаемое: 155\n",
            "Вход: 12, Прогноз: 24.999345779418945, Ожидаемое: 25\n",
            "Вход: 31, Прогноз: 62.99980545043945, Ожидаемое: 63\n"
          ]
        }
      ],
      "source": [
        "import torch\n",
        "import torch.nn as nn\n",
        "import torch.optim as optim\n",
        "import numpy as np\n",
        "from sklearn.model_selection import train_test_split\n",
        "\n",
        "# Генерация данных\n",
        "X = np.array([i for i in range(100)])  # Входные данные (0, 1, 2, ..., 99)\n",
        "y = 2 * X + 1  # Выходные данные (2*0 + 1, 2*1 + 1, ..., 2*99 + 1)\n",
        "\n",
        "# Разделение данных на обучающую и тестовую выборки\n",
        "X_train, X_test, y_train, y_test = train_test_split(X, y, test_size=0.2, random_state=42)\n",
        "\n",
        "# Преобразование данных в тензоры\n",
        "X_train_tensor = torch.tensor(X_train, dtype=torch.float32).view(-1, 1)\n",
        "y_train_tensor = torch.tensor(y_train, dtype=torch.float32).view(-1, 1)\n",
        "X_test_tensor = torch.tensor(X_test, dtype=torch.float32).view(-1, 1)\n",
        "y_test_tensor = torch.tensor(y_test, dtype=torch.float32).view(-1, 1)\n",
        "\n",
        "# Определение модели нейросети\n",
        "class SimpleNN(nn.Module):\n",
        "    def __init__(self):\n",
        "        super(SimpleNN, self).__init__()\n",
        "        self.fc1 = nn.Linear(1, 64)  # Входной слой\n",
        "        self.fc2 = nn.Linear(64, 64)  # Скрытый слой\n",
        "        self.fc3 = nn.Linear(64, 1)   # Выходной слой\n",
        "\n",
        "    def forward(self, x):\n",
        "        x = torch.relu(self.fc1(x))  # Применение ReLU\n",
        "        x = torch.relu(self.fc2(x))  # Применение ReLU\n",
        "        x = self.fc3(x)               # Выход\n",
        "        return x\n",
        "\n",
        "# Создание модели\n",
        "model = SimpleNN()\n",
        "\n",
        "# Определение функции потерь и оптимизатора\n",
        "criterion = nn.MSELoss()\n",
        "optimizer = optim.Adam(model.parameters(), lr=0.01)\n",
        "\n",
        "# Обучение модели\n",
        "epochs = 200\n",
        "for epoch in range(epochs):\n",
        "    model.train()\n",
        "\n",
        "    # Обнуление градиентов\n",
        "    optimizer.zero_grad()\n",
        "\n",
        "    # Прямой проход\n",
        "    outputs = model(X_train_tensor)\n",
        "\n",
        "    # Вычисление потерь\n",
        "    loss = criterion(outputs, y_train_tensor)\n",
        "\n",
        "    # Обратный проход и оптимизация\n",
        "    loss.backward()\n",
        "    optimizer.step()\n",
        "\n",
        "    if (epoch + 1) % 10 == 0:\n",
        "        print(f'Epoch [{epoch + 1}/{epochs}], Loss: {loss.item():.4f}')\n",
        "\n",
        "# Оценка модели\n",
        "model.eval()\n",
        "with torch.no_grad():\n",
        "    test_outputs = model(X_test_tensor)\n",
        "    test_loss = criterion(test_outputs, y_test_tensor)\n",
        "    print(f'Test Loss: {test_loss.item():.4f}')\n",
        "\n",
        "# Прогнозирование\n",
        "print(\"Прогнозы на тестовых данных:\")\n",
        "for i in range(len(X_test_tensor)):\n",
        "    print(f'Вход: {X_test[i]}, Прогноз: {test_outputs[i].item()}, Ожидаемое: {y_test[i]}')\n",
        "\n"
      ]
    },
    {
      "cell_type": "code",
      "source": [
        "sample = torch.tensor([15.])\n",
        "model_scr = torch.jit.trace(model, sample)\n",
        "model_scr.save('simple_nn.pth')"
      ],
      "metadata": {
        "id": "dFcQju2dFs5b"
      },
      "execution_count": 3,
      "outputs": []
    },
    {
      "cell_type": "code",
      "source": [
        "#Проверка работы сохраненной модели\n",
        "model_scr1 = torch.jit.load('simple_nn.pth')\n",
        "with torch.no_grad():\n",
        "  y = model_scr1(torch.tensor([5.]))\n",
        "print(f'Result: {y.item()}')"
      ],
      "metadata": {
        "id": "pJaEhlLoHGTk",
        "colab": {
          "base_uri": "https://localhost:8080/"
        },
        "outputId": "29ccc679-b6d6-403f-dcb3-ddc7ce76b208"
      },
      "execution_count": 5,
      "outputs": [
        {
          "output_type": "stream",
          "name": "stdout",
          "text": [
            "Result: 11.01359748840332\n"
          ]
        }
      ]
    },
    {
      "cell_type": "code",
      "source": [],
      "metadata": {
        "id": "pw2UeAadHkZG"
      },
      "execution_count": null,
      "outputs": []
    }
  ]
}